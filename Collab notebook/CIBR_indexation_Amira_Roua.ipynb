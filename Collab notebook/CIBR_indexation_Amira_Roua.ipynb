{
  "cells": [
    {
      "cell_type": "code",
      "execution_count": null,
      "metadata": {
        "colab": {
          "base_uri": "https://localhost:8080/"
        },
        "id": "rAj-tqjJDLRx",
        "outputId": "f7c6e347-fae0-4655-ca81-cda0c75c35fe"
      },
      "outputs": [
        {
          "output_type": "stream",
          "name": "stdout",
          "text": [
            "Mounted at /content/drive\n"
          ]
        }
      ],
      "source": [
        "from google.colab import drive\n",
        "drive.mount('/content/drive')"
      ]
    },
    {
      "cell_type": "code",
      "execution_count": null,
      "metadata": {
        "id": "uF3_0wMWPosk"
      },
      "outputs": [],
      "source": [
        "import cv2\n",
        "import os\n",
        "import sys\n",
        "\n",
        "import numpy as np\n",
        "from matplotlib import pyplot as plt\n",
        "from PIL import Image\n",
        "import tarfile\n",
        "import math\n",
        "\n"
      ]
    },
    {
      "cell_type": "code",
      "execution_count": null,
      "metadata": {
        "id": "P6WZWz3ePsvC"
      },
      "outputs": [],
      "source": [
        "# function to get the image\n",
        "def openImage(folder,filename):\n",
        "\treturn cv2.imread(os.path.join(folder,filename))"
      ]
    },
    {
      "cell_type": "code",
      "execution_count": null,
      "metadata": {
        "id": "db-yQVzcEypi"
      },
      "outputs": [],
      "source": [
        "# Specify the path to the zipped folder in Google Drive\n",
        "tar_path = '/content/drive/MyDrive/bibimage.tar.gz'\n",
        "\n",
        "# Specify the destination folder where you want to extract the contents\n",
        "extract_path = '/content/drive/MyDrive'\n",
        "\n",
        "# Create the destination folder if it doesn't exist\n",
        "os.makedirs(extract_path, exist_ok=True)\n",
        "\n",
        "with tarfile.open(tar_path, 'r:gz') as tar_ref:\n",
        "    tar_ref.extractall(extract_path)\n",
        "\n"
      ]
    },
    {
      "cell_type": "code",
      "execution_count": null,
      "metadata": {
        "id": "3wWI_lB3P4-i"
      },
      "outputs": [],
      "source": [
        "# Get the RGB Histograms\n",
        "def getHistImage(img):\n",
        "\thistBlue = cv2.calcHist([img],[0],None,[16],[0,256])\n",
        "\thistGreen = cv2.calcHist([img],[1],None,[16],[0,256])\n",
        "\thistRed = cv2.calcHist([img],[2],None,[16],[0,256])\n",
        "\treturn [histBlue, histGreen, histRed]"
      ]
    },
    {
      "cell_type": "code",
      "execution_count": null,
      "metadata": {
        "id": "wSqeMMxMPuPC"
      },
      "outputs": [],
      "source": [
        "#image1=openImage('/content/drive/MyDrive/BE','01.jpg')"
      ]
    },
    {
      "cell_type": "code",
      "execution_count": null,
      "metadata": {
        "id": "w1ACkhOEQIAE"
      },
      "outputs": [],
      "source": [
        "#getHistImage(image1)"
      ]
    },
    {
      "cell_type": "code",
      "execution_count": null,
      "metadata": {
        "colab": {
          "base_uri": "https://localhost:8080/"
        },
        "id": "OYsM1PcYVNKT",
        "outputId": "bedc2fed-6db6-4138-ad77-b61665a434d8"
      },
      "outputs": [
        {
          "output_type": "stream",
          "name": "stdout",
          "text": [
            "/content/drive/MyDrive/BE\n"
          ]
        }
      ],
      "source": [
        "%cd /content/drive/MyDrive/BE"
      ]
    },
    {
      "cell_type": "markdown",
      "metadata": {
        "id": "zLLbcfGCdgdg"
      },
      "source": [
        "# **Premier Outil**"
      ]
    },
    {
      "cell_type": "markdown",
      "metadata": {
        "id": "ZNDnpYAPJHnL"
      },
      "source": [
        "**Histogramme de couleur**"
      ]
    },
    {
      "cell_type": "code",
      "execution_count": null,
      "metadata": {
        "id": "NXrQ_2K_Xqnv"
      },
      "outputs": [],
      "source": [
        "path = \"/content/drive/MyDrive/BE\"\n",
        "images = os.listdir(path)\n",
        "color = ['r', 'g', 'b']\n",
        "for image_ in images:\n",
        "    # Load the image\n",
        "    image = np.array(Image.open(image_))\n",
        "\n",
        "    # Calculate the histogram\n",
        "\n",
        "    # Set up the figure and axis\n",
        "    fig, (ax1, ax2) = plt.subplots(1, 2, figsize=(12, 4))\n",
        "\n",
        "    # Display the image\n",
        "    ax1.imshow(image, )\n",
        "    ax1.set_title('Image')\n",
        "    ax1.axis('off')\n",
        "    for i in range(3):\n",
        "        hist = cv2.calcHist([image[..., i]], [0], None, [64], [0, 256])\n",
        "        np.savetxt(f'/content/drive/MyDrive/BE_Histograms/{i}_{image_}.txt', hist.flatten(), fmt='%d')\n",
        "\n",
        "\n",
        "        # Display the histogram\n",
        "        ax2.plot(hist, c=color[i])\n",
        "        ax2.set_title('Histogram')\n",
        "        ax2.set_xlabel('Pixel Value')\n",
        "        ax2.set_ylabel('Frequency')\n",
        "\n",
        "        # Adjust layout for better visualization\n",
        "    plt.tight_layout()\n",
        "\n",
        "    # Show the plot\n",
        "    plt.show()"
      ]
    },
    {
      "cell_type": "markdown",
      "metadata": {
        "id": "u1o2S-T5ZkNW"
      },
      "source": [
        "**Descripteur de texture**"
      ]
    },
    {
      "cell_type": "code",
      "execution_count": null,
      "metadata": {
        "id": "YbEMTkIziVdT"
      },
      "outputs": [],
      "source": [
        "import cv2\n",
        "# Charger une image\n",
        "path = \"/content/drive/MyDrive/BE\"\n",
        "images = os.listdir(path)\n",
        "for img in images:\n",
        "  image = cv2.imread(f'{path}/{img}')\n",
        "  results = []\n",
        "\n",
        "# Convertir l'image en niveaux de gris\n",
        "  gray_image = cv2.cvtColor(image, cv2.COLOR_BGR2GRAY)\n",
        "\n",
        "# Calculer la Transformée de Fourier 2D\n",
        "  fourier_transform = np.fft.fft2(gray_image)\n",
        "\n",
        "# Calculer l'image du spectre en amplitude\n",
        "  amplitude_spectrum = np.abs(fourier_transform)\n",
        "\n",
        "\n",
        "# Découper la moitié supérieure en 6x3 blocs\n",
        "  blocks = np.array_split(amplitude_spectrum[:gray_image.shape[0]//2, :], 6, axis=1)\n",
        "\n",
        "  subblocks = [np.array_split(block, 3, axis=1) for block in blocks]\n",
        "\n",
        "    # Flatten the list of subblocks into a 1D list\n",
        "  flattened_subblocks = [subblock for block in subblocks for subblock in block]\n",
        "\n",
        "\n",
        "\n",
        "# Calculer le logarithme de l'énergie moyenne sur chacun des blocs\n",
        "  log_energy_results = []\n",
        "  for block in flattened_subblocks:\n",
        "     # print(block)\n",
        "      energy = np.mean(np.square(np.log(1 + block)))\n",
        "      log_energy_results.append(energy)\n",
        "      #np.savetxt(f'/content/drive/MyDrive/BE_Energy/{image}.txt', log_energy_results, fmt='%d')\n",
        "\n",
        "\n",
        "# Mémoriser les 18 résultats pour chaque image\n",
        "# (Supposons que vous avez une liste appelée 'results' pour stocker ces résultats)\n",
        "  results.append(log_energy_results)\n",
        "\n",
        "  output_file_path = f\"/content/drive/MyDrive/BE_Energy/results_{img.split('.')[0]}.txt\"\n",
        "  with open(output_file_path, 'w') as file:\n",
        "        for result in log_energy_results:\n",
        "            file.write(f\"{result}\\n\")\n",
        "\n",
        "# Afficher l'image et le spectre en amplitude pour illustrer le processus\n",
        "#  fig, axs = plt.subplots(1, 3, figsize=(15, 5))\n",
        "\n",
        "#  axs[0].imshow(gray_image, cmap='gray')\n",
        "#  axs[0].set_title('Image en niveaux de gris')\n",
        "\n",
        "#  axs[1].imshow(np.log(1 + amplitude_spectrum), cmap='gray')\n",
        "#  axs[1].set_title('Spectre en amplitude (log)')\n",
        "\n",
        "#  axs[2].bar(range(len(log_energy_results)), log_energy_results, color='blue')\n",
        "#  axs[2].set_title('Logarithme de l\\'énergie moyenne sur chaque bloc')\n",
        "\n",
        "#  plt.show()"
      ]
    },
    {
      "cell_type": "markdown",
      "source": [
        "**Calculer descripteur de l'image en entree**"
      ],
      "metadata": {
        "id": "hEZCghIOGy68"
      }
    },
    {
      "cell_type": "code",
      "source": [
        "def calculate_texture_descriptor(image):\n",
        "\n",
        "  gray_image = cv2.cvtColor(image, cv2.COLOR_BGR2GRAY)\n",
        "\n",
        "  fourier_transform = np.fft.fft2(gray_image)\n",
        "\n",
        "  amplitude_spectrum = np.abs(fourier_transform)\n",
        "\n",
        "  blocks = np.array_split(amplitude_spectrum[:gray_image.shape[0]//2, :], 6, axis=1)\n",
        "\n",
        "  subblocks = [np.array_split(block, 3, axis=1) for block in blocks]\n",
        "\n",
        "  flattened_subblocks = [subblock for block in subblocks for subblock in block]\n",
        "\n",
        "  log_energy_results = []\n",
        "  for block in flattened_subblocks:\n",
        "      energy = np.mean(np.square(np.log(1 + block)))\n",
        "      log_energy_results.append(energy)\n",
        "\n",
        "  return log_energy_results\n",
        "\n",
        "\n"
      ],
      "metadata": {
        "id": "GEfdianoGyIF"
      },
      "execution_count": null,
      "outputs": []
    },
    {
      "cell_type": "code",
      "source": [
        "def calculate_histogram(image):\n",
        "  for i in range(3):\n",
        "        hist = cv2.calcHist([image[..., i]], [0], None, [64], [0, 256])\n",
        "  return hist\n",
        "\n",
        "\n"
      ],
      "metadata": {
        "id": "AanJS7BrH2nM"
      },
      "execution_count": null,
      "outputs": []
    },
    {
      "cell_type": "markdown",
      "source": [
        "**distance entre histogramme**"
      ],
      "metadata": {
        "id": "fIAJa3CC-ELe"
      }
    },
    {
      "cell_type": "code",
      "execution_count": null,
      "metadata": {
        "id": "MGc2ThJLi2fk"
      },
      "outputs": [],
      "source": [
        "\n",
        "def euclidean_distance(hist1, hist2):\n",
        "\n",
        "    return np.linalg.norm(hist1 - hist2)\n"
      ]
    },
    {
      "cell_type": "markdown",
      "source": [
        "**distance entre descripteurs de texture**"
      ],
      "metadata": {
        "id": "UcQazGha-WFv"
      }
    },
    {
      "cell_type": "code",
      "source": [
        "def manhattan_distance(list1, list2):\n",
        "    \"\"\"\n",
        "    Calcule la distance de Manhattan entre deux listes.\n",
        "    \"\"\"\n",
        "    if len(list1) != len(list2):\n",
        "        raise ValueError(\"Les listes doivent avoir la même longueur.\")\n",
        "    return sum(abs(a - b) for a, b in zip(list1, list2))\n",
        "\n"
      ],
      "metadata": {
        "id": "6Z4eUIpC-0Xf"
      },
      "execution_count": null,
      "outputs": []
    },
    {
      "cell_type": "markdown",
      "source": [
        "**Comparaison entre image en entree et le reste des images**"
      ],
      "metadata": {
        "id": "CNa2nbvF_gB0"
      }
    },
    {
      "cell_type": "code",
      "source": [
        "\n",
        "# Load the input image\n",
        "input_image_path = \"/content/drive/MyDrive/BE/20.jpg\"\n",
        "input_image = cv2.imread(input_image_path)\n",
        "\n",
        "# Calculate histogram and texture descriptor for the input image\n",
        "input_histogram = calculate_histogram(input_image)\n",
        "input_texture_descriptor = calculate_texture_descriptor(input_image)\n",
        "\n",
        "# Folder containing other BE images\n",
        "be_folder_path = \"/content/drive/MyDrive/BE\"\n",
        "be_images = os.listdir(be_folder_path)\n",
        "\n",
        "# Lists to store distances with image names\n",
        "distances_combined = []\n",
        "distance_histogram = []\n",
        "distance_texture = []\n",
        "\n",
        "# Calculate distances for each image\n",
        "for be_image_name in be_images:\n",
        "    # Load the image\n",
        "    be_image = cv2.imread(os.path.join(be_folder_path, be_image_name))\n",
        "\n",
        "    # Calculate histogram and texture descriptor for the current BE image\n",
        "    be_histogram = calculate_histogram(be_image)\n",
        "    be_texture_descriptor = calculate_texture_descriptor(be_image)\n",
        "\n",
        "    # Calculate distances\n",
        "    distance_histogram = euclidean_distance(input_histogram, be_histogram)\n",
        "    distance_texture = manhattan_distance(input_texture_descriptor,be_texture_descriptor)\n",
        "\n",
        "\n",
        "    # Combine distances using a weighted average\n",
        "    weight_histogram = 0.7  # Adjust weights as needed\n",
        "    weight_texture = 0.3\n",
        "    combined_distance = (weight_histogram * distance_histogram) + (weight_texture * distance_texture)\n",
        "\n",
        "    distances_combined.append((be_image_name, abs(combined_distance)))\n",
        "\n",
        "# Sort distances by increasing order\n",
        "distances_combined.sort(key=lambda x: x[1])\n",
        "print(\"Sorted distances:\", distances_combined)  # Add this line for debugging\n",
        "\n",
        "# Display the top 3 images based on combined distances\n",
        "print(\"Top 3 images based on combined distances:\")\n",
        "for img, dist in distances_combined[1:5]:\n",
        "    print(f\"Image: {os.path.join(be_folder_path, img)}, Combined Distance: {dist}\")\n",
        "\n",
        "\n"
      ],
      "metadata": {
        "colab": {
          "base_uri": "https://localhost:8080/"
        },
        "id": "qsw1oLg3D3Pf",
        "outputId": "0c2f45f5-6eb0-49e9-92dd-822d93ef9685"
      },
      "execution_count": null,
      "outputs": [
        {
          "output_type": "stream",
          "name": "stdout",
          "text": [
            "Sorted distances: [('20.jpg', 0.0), ('32.jpg', 1254.7052643555367), ('35.jpg', 1670.3390696785857), ('33.jpg', 1810.1263256867912), ('12.jpg', 1886.2612230033585), ('29.jpg', 1928.6517344842277), ('23.jpg', 1997.1184083989258), ('39.jpg', 2004.911727966793), ('50.jpg', 2232.7871396961946), ('04.jpg', 2511.9114345906646), ('34.jpg', 2520.6930637360138), ('07.jpg', 2590.9763782552222), ('24.jpg', 2780.341046900314), ('48.jpg', 2819.349581283486), ('15.jpg', 2851.3441546883705), ('49.jpg', 2966.3949010490037), ('40.jpg', 3009.953857427148), ('14.jpg', 3021.843601787045), ('28.jpg', 3090.664528406378), ('10.jpg', 3105.999048940679), ('11.jpg', 3163.5878441324), ('19.jpg', 3221.3599977416484), ('02.jpg', 3229.5056713377894), ('26.jpg', 3265.728332685079), ('41.jpg', 3409.543933328629), ('05.jpg', 3435.7814142478337), ('06.jpg', 3498.035514963075), ('25.jpg', 3553.0496327124833), ('13.jpg', 3638.620673816309), ('36.jpg', 3720.9163794740452), ('22.jpg', 3757.0523091473956), ('42.jpg', 4272.824251905188), ('30.jpg', 4432.853279402885), ('08.jpg', 4659.778887388394), ('03.jpg', 4761.924700982597), ('09.jpg', 4775.416224437803), ('43.jpg', 4894.589602340859), ('37.jpg', 4909.006467144554), ('01.jpg', 4931.854291579925), ('31.jpg', 5064.286995954595), ('47.jpg', 5664.078002155031), ('45.jpg', 5732.53377755693), ('17.jpg', 5786.948697739565), ('44.jpg', 5964.448345523609), ('27.jpg', 5967.590832250829), ('46.jpg', 6174.0283899625165), ('16.jpg', 6220.856566844548), ('18.jpg', 6397.3817090476), ('38.jpg', 7316.772723738701), ('21.jpg', 8091.681227422895)]\n",
            "Top 3 images based on combined distances:\n",
            "Image: /content/drive/MyDrive/BE/32.jpg, Combined Distance: 1254.7052643555367\n",
            "Image: /content/drive/MyDrive/BE/35.jpg, Combined Distance: 1670.3390696785857\n",
            "Image: /content/drive/MyDrive/BE/33.jpg, Combined Distance: 1810.1263256867912\n",
            "Image: /content/drive/MyDrive/BE/12.jpg, Combined Distance: 1886.2612230033585\n"
          ]
        }
      ]
    },
    {
      "cell_type": "code",
      "source": [],
      "metadata": {
        "id": "yf2iFzcEXjvq"
      },
      "execution_count": null,
      "outputs": []
    }
  ],
  "metadata": {
    "colab": {
      "provenance": []
    },
    "kernelspec": {
      "display_name": "Python 3",
      "name": "python3"
    },
    "language_info": {
      "name": "python"
    }
  },
  "nbformat": 4,
  "nbformat_minor": 0
}